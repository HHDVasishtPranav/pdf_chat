{
  "nbformat": 4,
  "nbformat_minor": 0,
  "metadata": {
    "colab": {
      "provenance": [],
      "authorship_tag": "ABX9TyNmlfGMRac6OmF96T4KMzUi",
      "include_colab_link": true
    },
    "kernelspec": {
      "name": "python3",
      "display_name": "Python 3"
    },
    "language_info": {
      "name": "python"
    }
  },
  "cells": [
    {
      "cell_type": "markdown",
      "metadata": {
        "id": "view-in-github",
        "colab_type": "text"
      },
      "source": [
        "<a href=\"https://colab.research.google.com/github/HHDVasishtPranav/pdf_chat/blob/main/PDF_chat.ipynb\" target=\"_parent\"><img src=\"https://colab.research.google.com/assets/colab-badge.svg\" alt=\"Open In Colab\"/></a>"
      ]
    },
    {
      "cell_type": "code",
      "execution_count": null,
      "metadata": {
        "id": "lCC-d3Bcg2Q7"
      },
      "outputs": [],
      "source": [
        "!pip install pypdf langchain InstructorEmbedding sentence_transformers faiss-cpu huggingface_hub"
      ]
    },
    {
      "cell_type": "code",
      "source": [
        "from pypdf import PdfReader\n",
        "from langchain.text_splitter import CharacterTextSplitter\n",
        "from langchain.vectorstores import FAISS\n",
        "from langchain.embeddings import HuggingFaceInstructEmbeddings"
      ],
      "metadata": {
        "id": "J65y0XbH6zyx"
      },
      "execution_count": null,
      "outputs": []
    },
    {
      "cell_type": "code",
      "source": [
        "def get_pdf_content(pdf_docs):\n",
        "    text = \"\"\n",
        "    for pdf_doc in pdf_docs:\n",
        "        reader = PdfReader(pdf_doc)\n",
        "        number_of_pages = len(reader.pages)\n",
        "        for i in range(0, number_of_pages):\n",
        "            page = reader.pages[i]\n",
        "            text += page.extract_text()\n",
        "    return text"
      ],
      "metadata": {
        "id": "ntxi_4pi6nzI"
      },
      "execution_count": null,
      "outputs": []
    },
    {
      "cell_type": "code",
      "source": [
        "def get_text_chunks(text):\n",
        "    text_chunks_split = CharacterTextSplitter(separator=\"\\n\",\n",
        "        chunk_size=1000,\n",
        "        chunk_overlap=100,\n",
        "        length_function=len\n",
        "    )\n",
        "    text_chunks = text_chunks_split.split_text(text)\n",
        "    return text_chunks"
      ],
      "metadata": {
        "id": "ukz4eyOR6xia"
      },
      "execution_count": null,
      "outputs": []
    },
    {
      "cell_type": "code",
      "source": [
        "from google.colab import files\n",
        "uploaded = files.upload()"
      ],
      "metadata": {
        "id": "3I2NizO567EZ",
        "colab": {
          "base_uri": "https://localhost:8080/",
          "height": 74
        },
        "outputId": "b16a4134-2040-46da-e92c-73e56cb3e3d5"
      },
      "execution_count": null,
      "outputs": [
        {
          "output_type": "display_data",
          "data": {
            "text/plain": [
              "<IPython.core.display.HTML object>"
            ],
            "text/html": [
              "\n",
              "     <input type=\"file\" id=\"files-ae5a60b2-1f98-4174-9394-76d264188fea\" name=\"files[]\" multiple disabled\n",
              "        style=\"border:none\" />\n",
              "     <output id=\"result-ae5a60b2-1f98-4174-9394-76d264188fea\">\n",
              "      Upload widget is only available when the cell has been executed in the\n",
              "      current browser session. Please rerun this cell to enable.\n",
              "      </output>\n",
              "      <script>// Copyright 2017 Google LLC\n",
              "//\n",
              "// Licensed under the Apache License, Version 2.0 (the \"License\");\n",
              "// you may not use this file except in compliance with the License.\n",
              "// You may obtain a copy of the License at\n",
              "//\n",
              "//      http://www.apache.org/licenses/LICENSE-2.0\n",
              "//\n",
              "// Unless required by applicable law or agreed to in writing, software\n",
              "// distributed under the License is distributed on an \"AS IS\" BASIS,\n",
              "// WITHOUT WARRANTIES OR CONDITIONS OF ANY KIND, either express or implied.\n",
              "// See the License for the specific language governing permissions and\n",
              "// limitations under the License.\n",
              "\n",
              "/**\n",
              " * @fileoverview Helpers for google.colab Python module.\n",
              " */\n",
              "(function(scope) {\n",
              "function span(text, styleAttributes = {}) {\n",
              "  const element = document.createElement('span');\n",
              "  element.textContent = text;\n",
              "  for (const key of Object.keys(styleAttributes)) {\n",
              "    element.style[key] = styleAttributes[key];\n",
              "  }\n",
              "  return element;\n",
              "}\n",
              "\n",
              "// Max number of bytes which will be uploaded at a time.\n",
              "const MAX_PAYLOAD_SIZE = 100 * 1024;\n",
              "\n",
              "function _uploadFiles(inputId, outputId) {\n",
              "  const steps = uploadFilesStep(inputId, outputId);\n",
              "  const outputElement = document.getElementById(outputId);\n",
              "  // Cache steps on the outputElement to make it available for the next call\n",
              "  // to uploadFilesContinue from Python.\n",
              "  outputElement.steps = steps;\n",
              "\n",
              "  return _uploadFilesContinue(outputId);\n",
              "}\n",
              "\n",
              "// This is roughly an async generator (not supported in the browser yet),\n",
              "// where there are multiple asynchronous steps and the Python side is going\n",
              "// to poll for completion of each step.\n",
              "// This uses a Promise to block the python side on completion of each step,\n",
              "// then passes the result of the previous step as the input to the next step.\n",
              "function _uploadFilesContinue(outputId) {\n",
              "  const outputElement = document.getElementById(outputId);\n",
              "  const steps = outputElement.steps;\n",
              "\n",
              "  const next = steps.next(outputElement.lastPromiseValue);\n",
              "  return Promise.resolve(next.value.promise).then((value) => {\n",
              "    // Cache the last promise value to make it available to the next\n",
              "    // step of the generator.\n",
              "    outputElement.lastPromiseValue = value;\n",
              "    return next.value.response;\n",
              "  });\n",
              "}\n",
              "\n",
              "/**\n",
              " * Generator function which is called between each async step of the upload\n",
              " * process.\n",
              " * @param {string} inputId Element ID of the input file picker element.\n",
              " * @param {string} outputId Element ID of the output display.\n",
              " * @return {!Iterable<!Object>} Iterable of next steps.\n",
              " */\n",
              "function* uploadFilesStep(inputId, outputId) {\n",
              "  const inputElement = document.getElementById(inputId);\n",
              "  inputElement.disabled = false;\n",
              "\n",
              "  const outputElement = document.getElementById(outputId);\n",
              "  outputElement.innerHTML = '';\n",
              "\n",
              "  const pickedPromise = new Promise((resolve) => {\n",
              "    inputElement.addEventListener('change', (e) => {\n",
              "      resolve(e.target.files);\n",
              "    });\n",
              "  });\n",
              "\n",
              "  const cancel = document.createElement('button');\n",
              "  inputElement.parentElement.appendChild(cancel);\n",
              "  cancel.textContent = 'Cancel upload';\n",
              "  const cancelPromise = new Promise((resolve) => {\n",
              "    cancel.onclick = () => {\n",
              "      resolve(null);\n",
              "    };\n",
              "  });\n",
              "\n",
              "  // Wait for the user to pick the files.\n",
              "  const files = yield {\n",
              "    promise: Promise.race([pickedPromise, cancelPromise]),\n",
              "    response: {\n",
              "      action: 'starting',\n",
              "    }\n",
              "  };\n",
              "\n",
              "  cancel.remove();\n",
              "\n",
              "  // Disable the input element since further picks are not allowed.\n",
              "  inputElement.disabled = true;\n",
              "\n",
              "  if (!files) {\n",
              "    return {\n",
              "      response: {\n",
              "        action: 'complete',\n",
              "      }\n",
              "    };\n",
              "  }\n",
              "\n",
              "  for (const file of files) {\n",
              "    const li = document.createElement('li');\n",
              "    li.append(span(file.name, {fontWeight: 'bold'}));\n",
              "    li.append(span(\n",
              "        `(${file.type || 'n/a'}) - ${file.size} bytes, ` +\n",
              "        `last modified: ${\n",
              "            file.lastModifiedDate ? file.lastModifiedDate.toLocaleDateString() :\n",
              "                                    'n/a'} - `));\n",
              "    const percent = span('0% done');\n",
              "    li.appendChild(percent);\n",
              "\n",
              "    outputElement.appendChild(li);\n",
              "\n",
              "    const fileDataPromise = new Promise((resolve) => {\n",
              "      const reader = new FileReader();\n",
              "      reader.onload = (e) => {\n",
              "        resolve(e.target.result);\n",
              "      };\n",
              "      reader.readAsArrayBuffer(file);\n",
              "    });\n",
              "    // Wait for the data to be ready.\n",
              "    let fileData = yield {\n",
              "      promise: fileDataPromise,\n",
              "      response: {\n",
              "        action: 'continue',\n",
              "      }\n",
              "    };\n",
              "\n",
              "    // Use a chunked sending to avoid message size limits. See b/62115660.\n",
              "    let position = 0;\n",
              "    do {\n",
              "      const length = Math.min(fileData.byteLength - position, MAX_PAYLOAD_SIZE);\n",
              "      const chunk = new Uint8Array(fileData, position, length);\n",
              "      position += length;\n",
              "\n",
              "      const base64 = btoa(String.fromCharCode.apply(null, chunk));\n",
              "      yield {\n",
              "        response: {\n",
              "          action: 'append',\n",
              "          file: file.name,\n",
              "          data: base64,\n",
              "        },\n",
              "      };\n",
              "\n",
              "      let percentDone = fileData.byteLength === 0 ?\n",
              "          100 :\n",
              "          Math.round((position / fileData.byteLength) * 100);\n",
              "      percent.textContent = `${percentDone}% done`;\n",
              "\n",
              "    } while (position < fileData.byteLength);\n",
              "  }\n",
              "\n",
              "  // All done.\n",
              "  yield {\n",
              "    response: {\n",
              "      action: 'complete',\n",
              "    }\n",
              "  };\n",
              "}\n",
              "\n",
              "scope.google = scope.google || {};\n",
              "scope.google.colab = scope.google.colab || {};\n",
              "scope.google.colab._files = {\n",
              "  _uploadFiles,\n",
              "  _uploadFilesContinue,\n",
              "};\n",
              "})(self);\n",
              "</script> "
            ]
          },
          "metadata": {}
        },
        {
          "output_type": "stream",
          "name": "stdout",
          "text": [
            "Saving The standard Lorem Ipsum passage.pdf to The standard Lorem Ipsum passage (1).pdf\n"
          ]
        }
      ]
    },
    {
      "cell_type": "code",
      "source": [
        "def get_vectorstore(text_chunks):\n",
        "    emmbeddings = HuggingFaceInstructEmbeddings(model_name=\"hkunlp/instructor-xl\")\n",
        "    vectorstore = FAISS.from_texts(text_chunks, embeddings=emmbeddings)\n",
        "    return vectorstore"
      ],
      "metadata": {
        "id": "wTRFkO_465Vp"
      },
      "execution_count": null,
      "outputs": []
    },
    {
      "cell_type": "code",
      "source": [
        "raw_text = get_pdf_content(uploaded)\n"
      ],
      "metadata": {
        "id": "R-t7iX9Z8V7t"
      },
      "execution_count": null,
      "outputs": []
    },
    {
      "cell_type": "code",
      "source": [
        "print(raw_text)"
      ],
      "metadata": {
        "colab": {
          "base_uri": "https://localhost:8080/"
        },
        "id": "4VaEtrgb8xrr",
        "outputId": "10ee4a9b-79ff-466f-f4fb-14b1bcdf9d32"
      },
      "execution_count": null,
      "outputs": [
        {
          "output_type": "stream",
          "name": "stdout",
          "text": [
            "The standard Lorem Ipsum passage, used since the 1500s  \n",
            "\"Lorem ipsum dolor sit amet, consectetur adipiscing elit, sed do eiusmod tempor incid idunt ut \n",
            "labore et dolore magna aliqua. Ut enim ad minim veniam, quis nostrud exercitation ullamco \n",
            "laboris nisi ut aliquip ex ea commodo consequat. Duis aute irure dolor in reprehenderit in \n",
            "voluptate velit esse cillum dolore eu fugiat nulla pariatur. Excep teur sint occaecat cupidatat \n",
            "non proident, sunt in culpa qui officia deserunt mollit anim id est laborum.\"  \n",
            "Section 1.10.32 of \"de Finibus Bonorum et Malorum\", written by Cicero in 45 BC  \n",
            "\"Sed ut perspiciatis unde omnis iste natus error sit voluptatem accusantium doloremque \n",
            "laudantium, totam rem aperiam, eaque ipsa quae ab illo inventore veritatis et quasi archit ecto \n",
            "beatae vitae dicta sunt explicabo. Nemo enim ipsam voluptatem quia voluptas sit aspernatur \n",
            "aut odit aut fugit, sed quia consequuntur magni dolores eos qui ratione voluptatem sequi \n",
            "nesciunt. Neque porro quisquam est, qui dolorem ipsum quia dolor sit am et, consectetur, \n",
            "adipisci velit, sed quia non numquam eius modi tempora incidunt ut labore et dolore magnam \n",
            "aliquam quaerat voluptatem. Ut enim ad minima veniam, quis nostrum exercitationem ullam \n",
            "corporis suscipit laboriosam, nisi ut aliquid ex ea commodi consequatur? Quis autem vel eum \n",
            "iure reprehenderit qui in ea voluptate velit esse quam nihil molestiae consequatur, vel illum qui \n",
            "dolorem eum fugiat quo voluptas nulla pariatur?\"  \n",
            "1914 translation by H. Rackham  \n",
            "\"But I must explain to you how all this mistak en idea of denouncing pleasure and praising pain \n",
            "was born and I will give you a complete account of the system, and expound the actual \n",
            "teachings of the great explorer of the truth, the master -builder of human happiness. No one \n",
            "rejects, dislikes, or avoids pleasure itself, because it is pleasure, but because those who do not \n",
            "know how to pursue pleasure rationally encounter consequences that are extremely painful. \n",
            "Nor again is there anyone who loves or pursues or desires to obtain pain of itself, because it i s \n",
            "pain, but because occasionally circumstances occur in which toil and pain can procure him \n",
            "some great pleasure. To take a trivial example, which of us ever undertakes laborious physical \n",
            "exercise, except to obtain some advantage from it? But who has any ri ght to find fault with a \n",
            "man who chooses to enjoy a pleasure that has no annoying consequences, or one who avoids a \n",
            "pain that produces no resultant pleasure?\"  \n",
            "Section 1.10.33 of \"de Finibus Bonorum et Malorum\", written by Cicero in 45 BC  \n",
            "\"At vero eos et ac cusamus et iusto odio dignissimos ducimus qui blanditiis praesentium \n",
            "voluptatum deleniti atque corrupti quos dolores et quas molestias excepturi sint occaecati \n",
            "cupiditate non provident, similique sunt in culpa qui officia deserunt mollitia animi, id est \n",
            "laborum et dolorum fuga. Et harum quidem rerum facilis est et expedita distinctio. Nam libero \n",
            "tempore, cum soluta nobis est eligendi optio cumque nihil impedit quo minus id quod maxime \n",
            "placeat facere possimus, omnis voluptas assumenda est, omnis dolor repell endus. Temporibus \n",
            "autem quibusdam et aut officiis debitis aut rerum necessitatibus saepe eveniet ut et voluptates \n",
            "repudiandae sint et molestiae non recusandae. Itaque earum rerum hic tenetur a sapiente \n",
            "delectus, ut aut reiciendis voluptatibus maiores alias  consequatur aut perferendis doloribus \n",
            "asperiores repellat.\"  \n",
            "1914 translation by H. Rackham  \"On the other hand, we denounce with righteous indignation and dislike men who are so \n",
            "beguiled and demoralized by the charms of pleasure of the moment, so blinded b y desire, that \n",
            "they cannot foresee the pain and trouble that are bound to ensue; and equal blame belongs to \n",
            "those who fail in their duty through weakness of will, which is the same as saying through \n",
            "shrinking from toil and pain. These cases are perfectly s imple and easy to distinguish. In a free \n",
            "hour, when our power of choice is untrammelled and when nothing prevents our being able to \n",
            "do what we like best, every pleasure is to be welcomed and every pain avoided. But in certain \n",
            "circumstances and owing to the  claims of duty or the obligations of business it will frequently \n",
            "occur that pleasures have to be repudiated and annoyances accepted. The wise man therefore \n",
            "always holds in these matters to this principle of selection: he rejects pleasures to secure other \n",
            "greater pleasures, or else he endures pains to avoid worse pains.\"  \n",
            " \n"
          ]
        }
      ]
    },
    {
      "cell_type": "code",
      "source": [
        "text_chunks = get_text_chunks(raw_text)\n",
        "print(text_chunks)"
      ],
      "metadata": {
        "colab": {
          "base_uri": "https://localhost:8080/"
        },
        "id": "p1x2dn-n8-oJ",
        "outputId": "e1f36865-dcd7-44b5-e31d-1afe351dd1ca"
      },
      "execution_count": null,
      "outputs": [
        {
          "output_type": "stream",
          "name": "stdout",
          "text": [
            "['The standard Lorem Ipsum passage, used since the 1500s  \\n\"Lorem ipsum dolor sit amet, consectetur adipiscing elit, sed do eiusmod tempor incid idunt ut \\nlabore et dolore magna aliqua. Ut enim ad minim veniam, quis nostrud exercitation ullamco \\nlaboris nisi ut aliquip ex ea commodo consequat. Duis aute irure dolor in reprehenderit in \\nvoluptate velit esse cillum dolore eu fugiat nulla pariatur. Excep teur sint occaecat cupidatat \\nnon proident, sunt in culpa qui officia deserunt mollit anim id est laborum.\"  \\nSection 1.10.32 of \"de Finibus Bonorum et Malorum\", written by Cicero in 45 BC  \\n\"Sed ut perspiciatis unde omnis iste natus error sit voluptatem accusantium doloremque \\nlaudantium, totam rem aperiam, eaque ipsa quae ab illo inventore veritatis et quasi archit ecto \\nbeatae vitae dicta sunt explicabo. Nemo enim ipsam voluptatem quia voluptas sit aspernatur \\naut odit aut fugit, sed quia consequuntur magni dolores eos qui ratione voluptatem sequi', 'aut odit aut fugit, sed quia consequuntur magni dolores eos qui ratione voluptatem sequi \\nnesciunt. Neque porro quisquam est, qui dolorem ipsum quia dolor sit am et, consectetur, \\nadipisci velit, sed quia non numquam eius modi tempora incidunt ut labore et dolore magnam \\naliquam quaerat voluptatem. Ut enim ad minima veniam, quis nostrum exercitationem ullam \\ncorporis suscipit laboriosam, nisi ut aliquid ex ea commodi consequatur? Quis autem vel eum \\niure reprehenderit qui in ea voluptate velit esse quam nihil molestiae consequatur, vel illum qui \\ndolorem eum fugiat quo voluptas nulla pariatur?\"  \\n1914 translation by H. Rackham  \\n\"But I must explain to you how all this mistak en idea of denouncing pleasure and praising pain \\nwas born and I will give you a complete account of the system, and expound the actual \\nteachings of the great explorer of the truth, the master -builder of human happiness. No one', 'teachings of the great explorer of the truth, the master -builder of human happiness. No one \\nrejects, dislikes, or avoids pleasure itself, because it is pleasure, but because those who do not \\nknow how to pursue pleasure rationally encounter consequences that are extremely painful. \\nNor again is there anyone who loves or pursues or desires to obtain pain of itself, because it i s \\npain, but because occasionally circumstances occur in which toil and pain can procure him \\nsome great pleasure. To take a trivial example, which of us ever undertakes laborious physical \\nexercise, except to obtain some advantage from it? But who has any ri ght to find fault with a \\nman who chooses to enjoy a pleasure that has no annoying consequences, or one who avoids a \\npain that produces no resultant pleasure?\"  \\nSection 1.10.33 of \"de Finibus Bonorum et Malorum\", written by Cicero in 45 BC  \\n\"At vero eos et ac cusamus et iusto odio dignissimos ducimus qui blanditiis praesentium', '\"At vero eos et ac cusamus et iusto odio dignissimos ducimus qui blanditiis praesentium \\nvoluptatum deleniti atque corrupti quos dolores et quas molestias excepturi sint occaecati \\ncupiditate non provident, similique sunt in culpa qui officia deserunt mollitia animi, id est \\nlaborum et dolorum fuga. Et harum quidem rerum facilis est et expedita distinctio. Nam libero \\ntempore, cum soluta nobis est eligendi optio cumque nihil impedit quo minus id quod maxime \\nplaceat facere possimus, omnis voluptas assumenda est, omnis dolor repell endus. Temporibus \\nautem quibusdam et aut officiis debitis aut rerum necessitatibus saepe eveniet ut et voluptates \\nrepudiandae sint et molestiae non recusandae. Itaque earum rerum hic tenetur a sapiente \\ndelectus, ut aut reiciendis voluptatibus maiores alias  consequatur aut perferendis doloribus \\nasperiores repellat.\"  \\n1914 translation by H. Rackham  \"On the other hand, we denounce with righteous indignation and dislike men who are so', 'beguiled and demoralized by the charms of pleasure of the moment, so blinded b y desire, that \\nthey cannot foresee the pain and trouble that are bound to ensue; and equal blame belongs to \\nthose who fail in their duty through weakness of will, which is the same as saying through \\nshrinking from toil and pain. These cases are perfectly s imple and easy to distinguish. In a free \\nhour, when our power of choice is untrammelled and when nothing prevents our being able to \\ndo what we like best, every pleasure is to be welcomed and every pain avoided. But in certain \\ncircumstances and owing to the  claims of duty or the obligations of business it will frequently \\noccur that pleasures have to be repudiated and annoyances accepted. The wise man therefore \\nalways holds in these matters to this principle of selection: he rejects pleasures to secure other \\ngreater pleasures, or else he endures pains to avoid worse pains.\"']\n"
          ]
        }
      ]
    },
    {
      "cell_type": "code",
      "source": [
        "vectorstore = get_vectorstore(text_chunks)"
      ],
      "metadata": {
        "colab": {
          "base_uri": "https://localhost:8080/"
        },
        "id": "5WZs-A-j9OFA",
        "outputId": "dbbc0428-9b23-4a45-c9bc-412125f2d888"
      },
      "execution_count": null,
      "outputs": [
        {
          "output_type": "stream",
          "name": "stdout",
          "text": [
            "load INSTRUCTOR_Transformer\n"
          ]
        }
      ]
    }
  ]
}